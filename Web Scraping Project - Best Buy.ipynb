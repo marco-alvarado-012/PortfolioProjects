{
 "cells": [
  {
   "cell_type": "code",
   "execution_count": 1,
   "id": "ebe58c11",
   "metadata": {},
   "outputs": [],
   "source": [
    "# import libraries\n",
    "\n",
    "from bs4 import BeautifulSoup\n",
    "import requests\n",
    "import smtplib\n",
    "import time\n",
    "import datetime\n",
    "import csv\n",
    "import pandas as pd"
   ]
  },
  {
   "cell_type": "code",
   "execution_count": 2,
   "id": "d6eec51b",
   "metadata": {},
   "outputs": [],
   "source": [
    "# connect to website and pull in data\n",
    "\n",
    "url = 'https://www.bestbuy.com/site/apple-airpods-pro-with-magsafe-charging-case-white/4900942.p?skuId=4900942'\n",
    "\n",
    "headers = {\"User-Agent\":\n",
    "        \"Mozilla/5.0 (Windows NT 10.0; Win64; x64) AppleWebKit/537.36 (KHTML, like Gecko) Chrome/98.0.4758.102 Safari/537.36\"}\n",
    "\n",
    "page = requests.get(url, headers=headers)\n",
    "\n",
    "soup1 = BeautifulSoup(page.content, \"html.parser\")\n",
    "\n",
    "soup2 = BeautifulSoup(soup1.prettify(), \"html.parser\")"
   ]
  },
  {
   "cell_type": "code",
   "execution_count": 3,
   "id": "e64ac3a8",
   "metadata": {},
   "outputs": [
    {
     "name": "stdout",
     "output_type": "stream",
     "text": [
      "\n",
      "              Apple - AirPods Pro (with Magsafe Charging Case) - White\n",
      "             \n"
     ]
    }
   ],
   "source": [
    "# grab product name from the web page\n",
    "\n",
    "title = soup2.find(class_=\"heading-5 v-fw-regular\").get_text()\n",
    "print(title)"
   ]
  },
  {
   "cell_type": "code",
   "execution_count": 4,
   "id": "14f6743f",
   "metadata": {},
   "outputs": [
    {
     "name": "stdout",
     "output_type": "stream",
     "text": [
      "\n",
      "\n",
      "                      $189.99\n",
      "                     \n",
      "\n",
      "                      Your price for this item is $\n",
      "                      \n",
      "                      189.99\n",
      "                     \n",
      "\n"
     ]
    }
   ],
   "source": [
    "# grab product price from the web page\n",
    "\n",
    "price = soup2.find('div', 'priceView-hero-price priceView-customer-price').get_text()\n",
    "print(price)"
   ]
  },
  {
   "cell_type": "code",
   "execution_count": 5,
   "id": "1c05de7b",
   "metadata": {},
   "outputs": [
    {
     "name": "stdout",
     "output_type": "stream",
     "text": [
      "Apple - AirPods Pro (with Magsafe Charging Case) - White\n"
     ]
    }
   ],
   "source": [
    "# clean up data - whitespace in title above\n",
    "\n",
    "title = soup2.find(class_=\"heading-5 v-fw-regular\").get_text().strip()\n",
    "print(title)"
   ]
  },
  {
   "cell_type": "code",
   "execution_count": 6,
   "id": "7394ca5d",
   "metadata": {},
   "outputs": [
    {
     "name": "stdout",
     "output_type": "stream",
     "text": [
      "189.99\n"
     ]
    }
   ],
   "source": [
    "# clean up data - extra text around price above\n",
    "\n",
    "\n",
    "price = soup2.find('div', 'priceView-hero-price priceView-customer-price').get_text().split()[0][1:]\n",
    "print(price)"
   ]
  },
  {
   "cell_type": "code",
   "execution_count": 7,
   "id": "11669be8",
   "metadata": {},
   "outputs": [
    {
     "name": "stdout",
     "output_type": "stream",
     "text": [
      "2022-03-04\n"
     ]
    }
   ],
   "source": [
    "# create a timestamp for the output to track when data is collected (and to note when changes in data occurred)\n",
    "\n",
    "today = datetime.date.today()\n",
    "print(today)"
   ]
  },
  {
   "cell_type": "code",
   "execution_count": 8,
   "id": "7e1fb1f1",
   "metadata": {},
   "outputs": [],
   "source": [
    "# create a csv file, then write headers and data into the file\n",
    "\n",
    "header = ['Title', 'Price', 'Date']\n",
    "data = [title, price, today]\n",
    "\n",
    "with open('bestbuywebscraping.csv', 'w', newline='', encoding='UTF8') as f:\n",
    "    writer = csv.writer(f)\n",
    "    writer.writerow(header)\n",
    "    writer.writerow(data)"
   ]
  },
  {
   "cell_type": "code",
   "execution_count": 9,
   "id": "73ef4d80",
   "metadata": {},
   "outputs": [
    {
     "data": {
      "text/html": [
       "<div>\n",
       "<style scoped>\n",
       "    .dataframe tbody tr th:only-of-type {\n",
       "        vertical-align: middle;\n",
       "    }\n",
       "\n",
       "    .dataframe tbody tr th {\n",
       "        vertical-align: top;\n",
       "    }\n",
       "\n",
       "    .dataframe thead th {\n",
       "        text-align: right;\n",
       "    }\n",
       "</style>\n",
       "<table border=\"1\" class=\"dataframe\">\n",
       "  <thead>\n",
       "    <tr style=\"text-align: right;\">\n",
       "      <th></th>\n",
       "      <th>Title</th>\n",
       "      <th>Price</th>\n",
       "      <th>Date</th>\n",
       "    </tr>\n",
       "  </thead>\n",
       "  <tbody>\n",
       "    <tr>\n",
       "      <th>0</th>\n",
       "      <td>Apple - AirPods Pro (with Magsafe Charging Cas...</td>\n",
       "      <td>189.99</td>\n",
       "      <td>2022-03-04</td>\n",
       "    </tr>\n",
       "  </tbody>\n",
       "</table>\n",
       "</div>"
      ],
      "text/plain": [
       "                                               Title   Price        Date\n",
       "0  Apple - AirPods Pro (with Magsafe Charging Cas...  189.99  2022-03-04"
      ]
     },
     "execution_count": 9,
     "metadata": {},
     "output_type": "execute_result"
    }
   ],
   "source": [
    "# view the newly created csv file directly inside the notebook instead of needing to open excel\n",
    "\n",
    "pd.read_csv('bestbuywebscraping.csv')"
   ]
  },
  {
   "cell_type": "code",
   "execution_count": 10,
   "id": "0f3d8caa",
   "metadata": {},
   "outputs": [
    {
     "data": {
      "text/html": [
       "<div>\n",
       "<style scoped>\n",
       "    .dataframe tbody tr th:only-of-type {\n",
       "        vertical-align: middle;\n",
       "    }\n",
       "\n",
       "    .dataframe tbody tr th {\n",
       "        vertical-align: top;\n",
       "    }\n",
       "\n",
       "    .dataframe thead th {\n",
       "        text-align: right;\n",
       "    }\n",
       "</style>\n",
       "<table border=\"1\" class=\"dataframe\">\n",
       "  <thead>\n",
       "    <tr style=\"text-align: right;\">\n",
       "      <th></th>\n",
       "      <th>Title</th>\n",
       "      <th>Price</th>\n",
       "      <th>Date</th>\n",
       "    </tr>\n",
       "  </thead>\n",
       "  <tbody>\n",
       "    <tr>\n",
       "      <th>0</th>\n",
       "      <td>Apple - AirPods Pro (with Magsafe Charging Cas...</td>\n",
       "      <td>189.99</td>\n",
       "      <td>2022-03-04</td>\n",
       "    </tr>\n",
       "    <tr>\n",
       "      <th>1</th>\n",
       "      <td>Apple - AirPods Pro (with Magsafe Charging Cas...</td>\n",
       "      <td>189.99</td>\n",
       "      <td>2022-03-04</td>\n",
       "    </tr>\n",
       "  </tbody>\n",
       "</table>\n",
       "</div>"
      ],
      "text/plain": [
       "                                               Title   Price        Date\n",
       "0  Apple - AirPods Pro (with Magsafe Charging Cas...  189.99  2022-03-04\n",
       "1  Apple - AirPods Pro (with Magsafe Charging Cas...  189.99  2022-03-04"
      ]
     },
     "execution_count": 10,
     "metadata": {},
     "output_type": "execute_result"
    }
   ],
   "source": [
    "# append a new row of data to the csv file\n",
    "\n",
    "with open('bestbuywebscraping.csv', 'a+', newline='', encoding='UTF8') as f:\n",
    "    writer = csv.writer(f)\n",
    "    writer.writerow(data)\n",
    "    \n",
    "pd.read_csv('bestbuywebscraping.csv')"
   ]
  },
  {
   "cell_type": "code",
   "execution_count": 11,
   "id": "781d54d0",
   "metadata": {},
   "outputs": [],
   "source": [
    "# combine the code above into a function\n",
    "\n",
    "def check_price():\n",
    "    url = 'https://www.bestbuy.com/site/apple-airpods-pro-with-magsafe-charging-case-white/4900942.p?skuId=4900942'\n",
    "\n",
    "    headers = {\"User-Agent\":\n",
    "        \"Mozilla/5.0 (Windows NT 10.0; Win64; x64) AppleWebKit/537.36 (KHTML, like Gecko) Chrome/98.0.4758.102 Safari/537.36\"}\n",
    "\n",
    "    page = requests.get(url, headers=headers)\n",
    "\n",
    "    soup1 = BeautifulSoup(page.content, \"html.parser\")\n",
    "\n",
    "    soup2 = BeautifulSoup(soup1.prettify(), \"html.parser\")\n",
    "\n",
    "    title = soup2.find(class_=\"heading-5 v-fw-regular\").get_text().strip()\n",
    "\n",
    "    price = soup2.find('div', 'priceView-hero-price priceView-customer-price').get_text().split()[0][1:]\n",
    "\n",
    "    today = datetime.date.today()\n",
    "\n",
    "    header = ['Title', 'Price', 'Date']\n",
    "    data = [title, price, today]\n",
    "\n",
    "    with open('bestbuywebscraping.csv', 'a+', newline='', encoding='UTF8') as f:\n",
    "        writer = csv.writer(f)\n",
    "        writer.writerow(data)"
   ]
  },
  {
   "cell_type": "code",
   "execution_count": 12,
   "id": "4093d1aa",
   "metadata": {},
   "outputs": [
    {
     "data": {
      "text/html": [
       "<div>\n",
       "<style scoped>\n",
       "    .dataframe tbody tr th:only-of-type {\n",
       "        vertical-align: middle;\n",
       "    }\n",
       "\n",
       "    .dataframe tbody tr th {\n",
       "        vertical-align: top;\n",
       "    }\n",
       "\n",
       "    .dataframe thead th {\n",
       "        text-align: right;\n",
       "    }\n",
       "</style>\n",
       "<table border=\"1\" class=\"dataframe\">\n",
       "  <thead>\n",
       "    <tr style=\"text-align: right;\">\n",
       "      <th></th>\n",
       "      <th>Title</th>\n",
       "      <th>Price</th>\n",
       "      <th>Date</th>\n",
       "    </tr>\n",
       "  </thead>\n",
       "  <tbody>\n",
       "    <tr>\n",
       "      <th>0</th>\n",
       "      <td>Apple - AirPods Pro (with Magsafe Charging Cas...</td>\n",
       "      <td>189.99</td>\n",
       "      <td>2022-03-04</td>\n",
       "    </tr>\n",
       "    <tr>\n",
       "      <th>1</th>\n",
       "      <td>Apple - AirPods Pro (with Magsafe Charging Cas...</td>\n",
       "      <td>189.99</td>\n",
       "      <td>2022-03-04</td>\n",
       "    </tr>\n",
       "    <tr>\n",
       "      <th>2</th>\n",
       "      <td>Apple - AirPods Pro (with Magsafe Charging Cas...</td>\n",
       "      <td>189.99</td>\n",
       "      <td>2022-03-04</td>\n",
       "    </tr>\n",
       "  </tbody>\n",
       "</table>\n",
       "</div>"
      ],
      "text/plain": [
       "                                               Title   Price        Date\n",
       "0  Apple - AirPods Pro (with Magsafe Charging Cas...  189.99  2022-03-04\n",
       "1  Apple - AirPods Pro (with Magsafe Charging Cas...  189.99  2022-03-04\n",
       "2  Apple - AirPods Pro (with Magsafe Charging Cas...  189.99  2022-03-04"
      ]
     },
     "execution_count": 12,
     "metadata": {},
     "output_type": "execute_result"
    }
   ],
   "source": [
    "# run the function to ensure it worked, view the output\n",
    "\n",
    "check_price()\n",
    "pd.read_csv('bestbuywebscraping.csv')"
   ]
  },
  {
   "cell_type": "code",
   "execution_count": null,
   "id": "72b95822",
   "metadata": {},
   "outputs": [],
   "source": [
    "# sets up automation to run the function above every 24 hours (as long as the notebook is running)\n",
    "# and appends the csv file each time it runs\n",
    "\n",
    "while (True):\n",
    "    check_price()\n",
    "    time.sleep(86400) #24 hours in seconds"
   ]
  }
 ],
 "metadata": {
  "kernelspec": {
   "display_name": "Python 3",
   "language": "python",
   "name": "python3"
  },
  "language_info": {
   "codemirror_mode": {
    "name": "ipython",
    "version": 3
   },
   "file_extension": ".py",
   "mimetype": "text/x-python",
   "name": "python",
   "nbconvert_exporter": "python",
   "pygments_lexer": "ipython3",
   "version": "3.8.8"
  }
 },
 "nbformat": 4,
 "nbformat_minor": 5
}
